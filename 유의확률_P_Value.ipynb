{
  "nbformat": 4,
  "nbformat_minor": 0,
  "metadata": {
    "colab": {
      "name": "유의확률 P-Value.ipynb",
      "provenance": [],
      "authorship_tag": "ABX9TyNWFkDTbqyO0rjkmwNDo6UT",
      "include_colab_link": true
    },
    "kernelspec": {
      "name": "python3",
      "display_name": "Python 3"
    },
    "language_info": {
      "name": "python"
    }
  },
  "cells": [
    {
      "cell_type": "markdown",
      "metadata": {
        "id": "view-in-github",
        "colab_type": "text"
      },
      "source": [
        "<a href=\"https://colab.research.google.com/github/helookscool/Shock-and-Awe-and-Mathatics/blob/main/%EC%9C%A0%EC%9D%98%ED%99%95%EB%A5%A0_P_Value.ipynb\" target=\"_parent\"><img src=\"https://colab.research.google.com/assets/colab-badge.svg\" alt=\"Open In Colab\"/></a>"
      ]
    },
    {
      "cell_type": "markdown",
      "metadata": {
        "id": "0kvI0sI-YN3u"
      },
      "source": [
        "# 유의확률 P-value\n",
        "\n",
        "\n",
        "### -유의? \n",
        "\n",
        "(통계적으로)의미가 있다는 뜻임. \n",
        "일단 P-value<0.05 라는 뜻은 뭔가가 95%보다 높다는 뜻이다. 그 뭔가가 뭘까?\n",
        "\n",
        "\n",
        "### -우린 모집단에서 추출한 표본을 통해서 모집단의 모습을 알아내고자 한다. \n",
        "\n",
        "일반적으로 통계에선 모집단을 모른다. 너무 크기때문이다. 때문에 표본을 추출하여 그 표본을 바탕으로 모집단의 모습을 추론하려하는데, 여기서 모집단의 모습을 알아내고자하는 계산값들이 있다.\n",
        "\n",
        "카이제곱검정을 통해 카이제곱값을 얻거나, \n",
        "\n",
        "t테스트를 통해 t값을 얻거나, \n",
        "\n",
        "변량분석, 분산분석을 해서 f값을 얻거나,\n",
        "\n",
        "상관관계분석을 통해서 r값을 얻거나,\n",
        "\n",
        "회귀분석 등을 통해서 B나 β값을 얻거나 \n",
        "\n",
        "혹은 어떤 계산으로 Z값을 얻거나 하는데, \n",
        "\n",
        "이 값을 그냥 표본을 분석하여 얻은 값일 뿐, 이 값이 모집단에 대해서 어떤 의미를 갖는지는 알수 없다. 이 값이 모집단에 대해서 어떤 의미를 갖는지 알려는데서  P-value라는 것이 시작되는 것이다(이것이 추론통계를 하는 과정일 것이다).\n",
        " \n",
        "예컨대, 추출한 표본을 분석해서 0.325라는 값을 얻었는데, 모집단에서도 똑같이 계산하면 0.325라는 값이 나오냐는 것이다. \n",
        "\n",
        "결론적으로 P-value<0.05라고 한다면 표본추출과 마찬가지의 계산 방식으로 모집단의 값을 계산했을때 0.325라는 값(혹은 비슷한 값이) 나올 확률이 95%보다 크다는 뜻이된다. \n",
        "\n",
        "여기서 비슷한 값이 나온다는 개념을 이해하려면 신뢰구간이라는 개념을 좀 이해할 필요가 있어보인다. \n",
        "\n",
        "===피곤하니까, 일단 여기까지. \n"
      ]
    }
  ]
}